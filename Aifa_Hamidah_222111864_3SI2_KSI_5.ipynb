{
  "nbformat": 4,
  "nbformat_minor": 0,
  "metadata": {
    "colab": {
      "provenance": []
    },
    "kernelspec": {
      "name": "python3",
      "display_name": "Python 3"
    },
    "language_info": {
      "name": "python"
    }
  },
  "cells": [
    {
      "cell_type": "markdown",
      "source": [
        "## **PENUGASAN KSI PERTEMUAN 5 (KRIPTOGRAFI)**\n",
        "#### **Nama  : Aifa Hamidah**\n",
        "#### **NIM   : 222111864**\n",
        "#### **Kelas : 3SI2**"
      ],
      "metadata": {
        "id": "qyGFRxu_YJbu"
      }
    },
    {
      "cell_type": "code",
      "execution_count": 4,
      "metadata": {
        "colab": {
          "base_uri": "https://localhost:8080/"
        },
        "id": "adVdoOKDAGB5",
        "outputId": "17d48b35-0314-41ae-e08a-3ff5f442ddcf"
      },
      "outputs": [
        {
          "output_type": "stream",
          "name": "stdout",
          "text": [
            "Masukkan teks untuk dienkripsi: AIFA HAMIDAH\n",
            "Masukkan kunci untuk enkripsi: 9\n",
            "Teks terenkripsi: ADIAFHA HAMI\n",
            "Teks terdekripsi: ADIAFHA HAMI\n"
          ]
        }
      ],
      "source": [
        "def transpose_encrypt(text, key):\n",
        "    # Membuat list kosong dengan panjang sejumlah 'key' untuk menampung hasil enkripsi\n",
        "    cipher_text = [''] * key\n",
        "\n",
        "    # Loop melalui setiap kolom dari matriks transposisi\n",
        "    for col in range(key):\n",
        "        pointer = col\n",
        "        # Loop melalui setiap karakter dalam teks\n",
        "        while pointer < len(text):\n",
        "            # Menambahkan karakter ke kolom yang sesuai\n",
        "            cipher_text[col] += text[pointer]\n",
        "            # Melanjutkan ke karakter berikutnya dalam kolom yang sama\n",
        "            pointer += key\n",
        "    # Menggabungkan setiap kolom untuk mendapatkan teks terenkripsi\n",
        "    return ''.join(cipher_text)\n",
        "\n",
        "def transpose_decrypt(cipher_text, key):\n",
        "    # Menghitung jumlah kolom dalam matriks transposisi\n",
        "    num_of_columns = len(cipher_text) // key\n",
        "\n",
        "    # Menghitung jumlah baris dalam matriks transposisi\n",
        "    num_of_rows = key\n",
        "\n",
        "    # Menghitung jumlah kotak yang tidak diisi di baris terakhir\n",
        "    num_of_shaded_boxes = len(cipher_text) % key\n",
        "\n",
        "    # Membuat list kosong dengan panjang sejumlah 'num_of_columns' untuk menampung hasil dekripsi\n",
        "    plain_text = [''] * num_of_columns\n",
        "    col = 0\n",
        "    row = 0\n",
        "\n",
        "    # Loop melalui setiap karakter dalam teks terenkripsi\n",
        "    for symbol in cipher_text:\n",
        "        # Menambahkan karakter ke kotak yang sesuai dalam matriks transposisi\n",
        "        plain_text[col] += symbol\n",
        "        col += 1\n",
        "        # Jika mencapai akhir baris atau kotak terakhir dalam baris terakhir yang tidak diisi\n",
        "        if (col == num_of_columns) or (col == num_of_columns - 1 and row >= num_of_shaded_boxes):\n",
        "            # Mengubah ke kolom pertama pada baris berikutnya\n",
        "            col = 0\n",
        "            row += 1\n",
        "    # Menggabungkan setiap baris untuk mendapatkan teks terdekripsi\n",
        "    return ''.join(plain_text)\n",
        "\n",
        "\n",
        "# Penggunaan:\n",
        "text = input(\"Masukkan teks untuk dienkripsi: \")\n",
        "key = int(input(\"Masukkan kunci enkripsi: \"))\n",
        "\n",
        "encrypted_text = transpose_encrypt(text, key)\n",
        "print(\"Teks terenkripsi:\", encrypted_text)\n",
        "\n",
        "decrypted_text = transpose_decrypt(encrypted_text, key)\n",
        "print(\"Teks terdekripsi:\", decrypted_text)"
      ]
    },
    {
      "cell_type": "markdown",
      "source": [
        "## **Kompleksitas Waktu**\n",
        "\n",
        "\n",
        "*   ENKRIPSI\n",
        "    1.   Pembuatan array cipher_text yang berukuran key memiliki kompleksitas waktu O(key)\n",
        "    2.   Loop for dilakukan sebanyak key sehingga waktu yang dibutuhkan adalah O(key)\n",
        "    3.   Loop lanjutan, menginisiasi pointer ke col, dan kemudian diiterasi ke setiap karakter dalam text dengan langkah sebesar key. Pada setiap iterasi, menambahkan karakter ke kolom yang sesuai dalam cipher_text. Operasi ini membutuhkan waktu O(n).\n",
        "    4.   Penggabungan dari array cipher_text memiliki kompleksitas waktu O(1)\n",
        "\n",
        "    Jadi, total waktu yang dibutuhkan keseluruhan adalah O(key + n + 1)\n",
        "\n",
        "*   DEKRIPSI\n",
        "    1. Menghitung jumlah kolom, jumlah baris, dan jumlah kotak yang terisi dalam tabel transposisi. Semua operasi ini memiliki kompleksitas waktu konstan O(1).\n",
        "    2. Kemudian, membuat list plain_text yang akan berisi teks terdekripsi.  Memerlukan waktu konstan O(num_of_columns).\n",
        "    3. Selanjutnya, melakukan iterasi melalui setiap simbol dalam cipher_text. Setiap iterasi membutuhkan loop hingga panjang teks, sehingga kompleksitas keseluruhan menjadi O(n), di mana n adalah panjang teks.\n",
        "\n",
        "    Jadi, total waktu yang dibutuhkan keseluruhan adalah O(num_of_columns + n + 1)\n"
      ],
      "metadata": {
        "id": "d23Os9HNAxOs"
      }
    },
    {
      "cell_type": "code",
      "source": [
        "# Fungsi untuk mengenkripsi dengan cipher substitusi\n",
        "def encrypt_substitution(text, key):\n",
        "    alphabet = 'abcdefghijklmnopqrstuvwxyz'\n",
        "    # definisikan string kosong yang menyimpan teks hasil enkripsi.\n",
        "    encrypted_text = ''\n",
        "\n",
        "    # mengiterasi setiap karakter dalam teks yang akan dienkripsi.\n",
        "    for char in text:\n",
        "        # memeriksa apakah karakter dalam teks (char) terdapat dalam alfabet. char.lower() digunakan untuk memastikan karakter tersebut dalam bentuk huruf kecil.\n",
        "        if char.lower() in alphabet:\n",
        "            # menemukan indeks karakter dalam alphabet dan menambahkannya dengan kunci (key).\n",
        "            # % 26 digunakan untuk memastikan bahwa nilai indeks berada dalam rentang 0 hingga 25, karena jumlah huruf alfabet 26\n",
        "            idx = (alphabet.index(char.lower()) + key) % 26\n",
        "            encrypted_text += alphabet[idx] if char.islower() else alphabet[idx].upper()\n",
        "        else:\n",
        "            encrypted_text += char\n",
        "    return encrypted_text\n",
        "\n",
        "# Fungsi untuk mendekripsi dengan cipher substitusi\n",
        "def decrypt_substitution(text, key):\n",
        "    # memanggil kembali fungsi encrypt_substitution dengan nilai key negatif untuk mendekripsi teks.\n",
        "    return encrypt_substitution(text, -key)\n",
        "\n",
        "# Contoh penggunaan\n",
        "plain_text = input(\"Masukkan teks yang akan dienkripsi: \")\n",
        "key = int(input(\"Masukkan kunci untuk cipher substitusi: \"))\n",
        "\n",
        "cipher_text = encrypt_substitution(plain_text, key)\n",
        "print(\"Teks terenkripsi:\", cipher_text)\n",
        "\n",
        "decrypted_text = decrypt_substitution(cipher_text, key)\n",
        "print(\"Teks terdekripsi:\", decrypted_text)"
      ],
      "metadata": {
        "colab": {
          "base_uri": "https://localhost:8080/"
        },
        "id": "7t__UnH8LLUO",
        "outputId": "d316514b-3d7e-4bdb-e397-c6031a1bc7dd"
      },
      "execution_count": 3,
      "outputs": [
        {
          "output_type": "stream",
          "name": "stdout",
          "text": [
            "Masukkan teks yang akan dienkripsi: aifa hamidah\n",
            "Masukkan kunci untuk cipher substitusi: 4\n",
            "Teks terenkripsi: emje leqmhel\n",
            "Teks terdekripsi: aifa hamidah\n"
          ]
        }
      ]
    },
    {
      "cell_type": "markdown",
      "source": [
        "## **Kompleksitas Waktu**\n",
        "\n",
        "\n",
        "*   ENKRIPSI & DEKRIPSI\n",
        "    1.   Loop for melalui setiap karakter dalam teks yang akan dienkripsi membutuhkan waktu O(n), di mana 'n' adalah panjang teks.\n",
        "    2.   Setiap langkah dalam loop adalah operasi yang memiliki kompleksitas waktu konstan (O(1)) karena hanya melibatkan operasi sederhana seperti pencarian indeks dalam alfabet dan penambahan karakter ke string enkripsi.\n",
        "    \n",
        "    Karena operasi dalam loop membutuhkan waktu konstan dan jumlah operasi dalam loop bergantung pada panjang teks, kompleksitas waktu total fungsi ini adalah O(n), di mana 'n' adalah panjang teks yang dienkripsi.\n"
      ],
      "metadata": {
        "id": "ow0VxKr-Aywq"
      }
    }
  ]
}